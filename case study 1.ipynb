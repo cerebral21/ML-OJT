{
 "cells": [
  {
   "cell_type": "code",
   "execution_count": 1,
   "metadata": {},
   "outputs": [],
   "source": [
    "import pandas as pd\n",
    "import numpy as np"
   ]
  },
  {
   "cell_type": "code",
   "execution_count": 9,
   "metadata": {},
   "outputs": [
    {
     "name": "stdout",
     "output_type": "stream",
     "text": [
      "2002,2009,2016,2023,2037,2044,2051,2058,2072,2079,2086,2093,2107,2114,2121,2128,2142,2149,2156,2163,2177,2184,2191,2198,2212,2219,2226,2233,2247,2254,2261,2268,2282,2289,2296,2303,2317,2324,2331,2338,2352,2359,2366,2373,2387,2394,2401,2408,2422,2429,2436,2443,2457,2464,2471,2478,2492,2499,2506,2513,2527,2534,2541,2548,2562,2569,2576,2583,2597,2604,2611,2618,2632,2639,2646,2653,2667,2674,2681,2688,2702,2709,2716,2723,2737,2744,2751,2758,2772,2779,2786,2793,2807,2814,2821,2828,2842,2849,2856,2863,2877,2884,2891,2898,2912,2919,2926,2933,2947,2954,2961,2968,2982,2989,2996,3003,3017,3024,3031,3038,3052,3059,3066,3073,3087,3094,3101,3108,3122,3129,3136,3143,3157,3164,3171,3178,3192,3199\n"
     ]
    }
   ],
   "source": [
    "#Q-1\n",
    "result=''\n",
    "start=2000\n",
    "end=3200\n",
    "start=start+7-start%7\n",
    "for i in range(start,end,7):\n",
    "    if i%5==0:\n",
    "        continue\n",
    "    result+=(str(i)+',')\n",
    "print(result[:-1])"
   ]
  },
  {
   "cell_type": "code",
   "execution_count": 29,
   "metadata": {},
   "outputs": [
    {
     "name": "stdout",
     "output_type": "stream",
     "text": [
      "8\n",
      "54\n",
      "3\n",
      "a\n",
      "40320,230843697339241380472092742683027581083278564571807941132288000000000000,6"
     ]
    },
    {
     "data": {
      "text/plain": [
       "''"
      ]
     },
     "execution_count": 29,
     "metadata": {},
     "output_type": "execute_result"
    }
   ],
   "source": [
    "#Q-2\n",
    "# Instead pf asking user to tell number of items beforehand\n",
    "# Here the user will enter anything other than a number to terminate the input\n",
    "def fact(n):\n",
    "    return 1 if (n==1 or n==0) else n * fact(n - 1)\n",
    "\n",
    "try:\n",
    "    num = []\n",
    "    while True:\n",
    "        num.append(int(input()))\n",
    "         \n",
    "except:\n",
    "    pass\n",
    "\n",
    "for ind,i in enumerate(num):\n",
    "    if ind==len(num)-1:\n",
    "        print(fact(i), end='')\n",
    "        break\n",
    "    print(fact(i), end=',')\n"
   ]
  },
  {
   "cell_type": "code",
   "execution_count": 11,
   "metadata": {},
   "outputs": [
    {
     "name": "stdout",
     "output_type": "stream",
     "text": [
      "4\n"
     ]
    },
    {
     "data": {
      "text/plain": [
       "{1: 1, 2: 4, 3: 9, 4: 16}"
      ]
     },
     "execution_count": 11,
     "metadata": {},
     "output_type": "execute_result"
    }
   ],
   "source": [
    "#Q-3\n",
    "\n",
    "num=int(input())\n",
    "res={}\n",
    "for i in range(1,num+1):\n",
    "    res[i]=i*i\n",
    "res"
   ]
  },
  {
   "cell_type": "code",
   "execution_count": 17,
   "metadata": {},
   "outputs": [
    {
     "name": "stdout",
     "output_type": "stream",
     "text": [
      "43\n",
      "34\n",
      "4334\n",
      "42\n",
      "2\n",
      "2\n",
      "32\n",
      "3\n",
      "332\n",
      "32\n",
      "2\n",
      "3\n",
      "2\n",
      "2\n",
      "1\n",
      "\n",
      "[43, 34, 4334, 42, 2, 2, 32, 3, 332, 32, 2, 3, 2, 2, 1]\n",
      "(43, 34, 4334, 42, 2, 2, 32, 3, 332, 32, 2, 3, 2, 2, 1)\n"
     ]
    }
   ],
   "source": [
    "#Q-4\n",
    "\n",
    "try:\n",
    "    num = []\n",
    "    while True:\n",
    "        num.append(int(input()))\n",
    "         \n",
    "# if the input is not-integer, just print the list\n",
    "except:\n",
    "    pass\n",
    "    \n",
    "print(list(num))\n",
    "print(tuple(num))"
   ]
  },
  {
   "cell_type": "code",
   "execution_count": 22,
   "metadata": {},
   "outputs": [
    {
     "name": "stdout",
     "output_type": "stream",
     "text": [
      "Lakshya Bhardwaj\n",
      "LAKSHYA BHARDWAJ\n"
     ]
    }
   ],
   "source": [
    "#Q-5\n",
    "\n",
    "class String():\n",
    "    def __init__(self):\n",
    "        self.str1 = \"\"\n",
    "\n",
    "    def get_String(self):\n",
    "        self.str1 = input()\n",
    "\n",
    "    def print_String(self):\n",
    "        print(self.str1.upper())\n",
    "\n",
    "str1 = String()\n",
    "str1.get_String()\n",
    "str1.print_String()\n"
   ]
  },
  {
   "cell_type": "code",
   "execution_count": 28,
   "metadata": {},
   "outputs": [
    {
     "name": "stdout",
     "output_type": "stream",
     "text": [
      "100\n",
      "150\n",
      "180\n",
      "f\n",
      "18,22,24"
     ]
    }
   ],
   "source": [
    "#Q-7\n",
    "\n",
    "C=50\n",
    "H=30\n",
    "try:\n",
    "    D = []\n",
    "    while True:\n",
    "        D.append(int(input()))\n",
    "         \n",
    "# if the input is not-integer, just print the list\n",
    "except:\n",
    "    pass\n",
    "\n",
    "for i,d in enumerate(D):\n",
    "    Q=2*C*d/H\n",
    "    Q=round(Q**0.5)\n",
    "    if i==len(D)-1:\n",
    "        print(Q, end='')\n",
    "        break\n",
    "    print(Q, end=',')"
   ]
  },
  {
   "cell_type": "code",
   "execution_count": 39,
   "metadata": {},
   "outputs": [
    {
     "name": "stdout",
     "output_type": "stream",
     "text": [
      "Input comma separated sequence of wordsgeeks,foe,ajfe\n",
      "ajfe,foe,geeks\n"
     ]
    }
   ],
   "source": [
    "#Q-8\n",
    "\n",
    "items = input(\"Input comma separated sequence of words\")\n",
    "words = [word for word in items.split(\",\")]\n",
    "print(\",\".join(sorted(words)))\n"
   ]
  },
  {
   "cell_type": "code",
   "execution_count": 34,
   "metadata": {},
   "outputs": [
    {
     "name": "stdout",
     "output_type": "stream",
     "text": [
      "lakshya\n",
      "bhardwaj\n",
      "\n",
      "LAKSHYA\n",
      "BHARDWAJ\n"
     ]
    }
   ],
   "source": [
    "#Q-9\n",
    "\n",
    "lines = []\n",
    "while True:\n",
    "    l = input()\n",
    "    if l:\n",
    "        lines.append(l.upper())\n",
    "    else:\n",
    "        break;\n",
    "\n",
    "for l in lines:\n",
    "    print(l)"
   ]
  },
  {
   "cell_type": "code",
   "execution_count": 41,
   "metadata": {},
   "outputs": [
    {
     "name": "stdout",
     "output_type": "stream",
     "text": [
      "Input comma separated sequence of words::: hello world and practice makes perfect and hello world again\n",
      " again and hello makes perfect practice world\n"
     ]
    }
   ],
   "source": [
    "#Q-10\n",
    "\n",
    "items = input(\"Input comma separated sequence of words:::\")\n",
    "words = set(word for word in items.split(\" \"))\n",
    "print(\" \".join(sorted(words)))"
   ]
  },
  {
   "cell_type": "code",
   "execution_count": 42,
   "metadata": {},
   "outputs": [
    {
     "name": "stdout",
     "output_type": "stream",
     "text": [
      " 0100,0011,1010,1001\n",
      "1010,"
     ]
    }
   ],
   "source": [
    "#Q-11\n",
    "items = input()\n",
    "nums = set(num for num in items.split(\",\"))\n",
    "for i,n in enumerate(nums):\n",
    "    temp=int(n,2)\n",
    "    if temp%5==0:\n",
    "        print(n, end=',')"
   ]
  },
  {
   "cell_type": "code",
   "execution_count": 14,
   "metadata": {},
   "outputs": [
    {
     "name": "stdout",
     "output_type": "stream",
     "text": [
      "2000,2002,2004,2006,2008,2020,2022,2024,2026,2028,2040,2042,2044,2046,2048,2060,2062,2064,2066,2068,2080,2082,2084,2086,2088,2200,2202,2204,2206,2208,2220,2222,2224,2226,2228,2240,2242,2244,2246,2248,2260,2262,2264,2266,2268,2280,2282,2284,2286,2288,2400,2402,2404,2406,2408,2420,2422,2424,2426,2428,2440,2442,2444,2446,2448,2460,2462,2464,2466,2468,2480,2482,2484,2486,2488,2600,2602,2604,2606,2608,2620,2622,2624,2626,2628,2640,2642,2644,2646,2648,2660,2662,2664,2666,2668,2680,2682,2684,2686,2688,2800,2802,2804,2806,2808,2820,2822,2824,2826,2828,2840,2842,2844,2846,2848,2860,2862,2864,2866,2868,2880,2882,2884,2886,2888\n"
     ]
    }
   ],
   "source": [
    "#Q-12\n",
    "from itertools import takewhile\n",
    "start=1000\n",
    "end=3000\n",
    "res=[]\n",
    "for d in range(start,end+1,2):\n",
    "    filtered = ''.join(takewhile(lambda c: int(c) % 2 == 0, str(d)))\n",
    "    if not filtered:\n",
    "        continue\n",
    "    if int(filtered) == d:\n",
    "        res.append(str(d))\n",
    "print(\",\".join(res))"
   ]
  },
  {
   "cell_type": "code",
   "execution_count": 15,
   "metadata": {},
   "outputs": [
    {
     "name": "stdout",
     "output_type": "stream",
     "text": [
      "Please Enter your Own String :  hello world! 123\n",
      "\n",
      "Total Number of Alphabets in this String :   10\n",
      "Total Number of Digits in this String :   3\n"
     ]
    }
   ],
   "source": [
    "#Q-13\n",
    "\n",
    "string = input(\"Please Enter your Own String : \")\n",
    "alphabets = digits = 0\n",
    "\n",
    "for i in range(len(string)):\n",
    "    if((string[i] >= 'a' and string[i] <= 'z') or (string[i] >= 'A' and string[i] <= 'Z')): \n",
    "        alphabets = alphabets + 1 \n",
    "    elif(string[i] >= '0' and string[i] <= '9'):\n",
    "        digits = digits + 1\n",
    "        \n",
    "print(\"\\nTotal Number of Alphabets in this String :  \", alphabets)\n",
    "print(\"Total Number of Digits in this String :  \", digits)"
   ]
  },
  {
   "cell_type": "code",
   "execution_count": 16,
   "metadata": {},
   "outputs": [
    {
     "name": "stdout",
     "output_type": "stream",
     "text": [
      "Please Enter your Own String : Hello world!\n",
      "\n",
      "Total Number of lowercase in this String :   9\n",
      "Total Number of upper case in this String :   1\n"
     ]
    }
   ],
   "source": [
    "#Q-14\n",
    "\n",
    "string = input(\"Please Enter your String : \")\n",
    "lower = upper = 0\n",
    "\n",
    "for i in range(len(string)):\n",
    "    if(string[i] >= 'a' and string[i] <= 'z'): \n",
    "        lower+=1 \n",
    "    elif (string[i] >= 'A' and string[i] <= 'Z'):\n",
    "        upper+=1\n",
    "        \n",
    "print(\"\\nTotal Number of lowercase in this String :  \", lower)\n",
    "print(\"Total Number of upper case in this String :  \", upper)"
   ]
  },
  {
   "cell_type": "code",
   "execution_count": 19,
   "metadata": {},
   "outputs": [
    {
     "name": "stdout",
     "output_type": "stream",
     "text": [
      "9\n"
     ]
    },
    {
     "data": {
      "text/plain": [
       "11106"
      ]
     },
     "execution_count": 19,
     "metadata": {},
     "output_type": "execute_result"
    }
   ],
   "source": [
    "#Q-15\n",
    "\n",
    "a=int(input())\n",
    "x=10-a\n",
    "res=0\n",
    "for i in range(1,5):\n",
    "    temp=(10**i)-x\n",
    "    res+=temp\n",
    "res"
   ]
  },
  {
   "cell_type": "code",
   "execution_count": 20,
   "metadata": {},
   "outputs": [
    {
     "name": "stdout",
     "output_type": "stream",
     "text": [
      "Input comma separated sequence of words1,2,3,4,54,5\n",
      "[1, 2, 9, 4, 54, 25],"
     ]
    }
   ],
   "source": [
    "#Q-16\n",
    "\n",
    "items = input(\"Input comma separated sequence of words\")\n",
    "nums = [int(word) for word in items.split(\",\")]\n",
    "for i in range(len(nums)):\n",
    "    if nums[i]%2:\n",
    "        nums[i]=nums[i]**2\n",
    "print(nums, end=',')"
   ]
  },
  {
   "cell_type": "code",
   "execution_count": 2,
   "metadata": {},
   "outputs": [
    {
     "name": "stdout",
     "output_type": "stream",
     "text": [
      "D 4000\n",
      "D 4000\n",
      "W 3000\n",
      "\n"
     ]
    },
    {
     "data": {
      "text/plain": [
       "5000"
      ]
     },
     "execution_count": 2,
     "metadata": {},
     "output_type": "execute_result"
    }
   ],
   "source": [
    "#Q-17\n",
    "\n",
    "transaction=[]\n",
    "while True:\n",
    "    l = input()\n",
    "    if l:\n",
    "        transaction.append(l)\n",
    "    else:\n",
    "        break;\n",
    "\n",
    "sum=0\n",
    "for t in transaction:\n",
    "    if t[0]=='D':\n",
    "        sum+=int(t[2:])\n",
    "    elif t[0]=='W':\n",
    "        if sum-int(t[2:])<0:\n",
    "            print(\"Withdrawl invalid\")\n",
    "            continue\n",
    "        sum-=int(t[2:])\n",
    "sum"
   ]
  },
  {
   "cell_type": "code",
   "execution_count": 16,
   "metadata": {},
   "outputs": [
    {
     "name": "stdout",
     "output_type": "stream",
     "text": [
      "Input comma separated sequence of wordsretf34,Uu&8m,IU*(HUYgy8,io(*huUU98\n",
      "10\n",
      "10\n",
      "IU*(HUYgy8,io(*huUU98\n"
     ]
    }
   ],
   "source": [
    "#Q-18\n",
    "items = input(\"Input comma separated sequence of words\")\n",
    "password = [word for word in items.split(\",\")]\n",
    "\n",
    "\n",
    "res=[]\n",
    "for p in password:\n",
    "    if len(p)<6 or len(p)>12:\n",
    "        continue\n",
    "    l=0\n",
    "    u=0\n",
    "    d=0\n",
    "    s=0\n",
    "    for word in p:\n",
    "        if (word >= 'a' and word <= 'z'):\n",
    "            l+=1\n",
    "        elif (word >= 'A' and word <= 'Z'):\n",
    "            u+=1\n",
    "        elif(word >= '0' and word <= '9'):\n",
    "            d+=1\n",
    "        else:\n",
    "            s+=1\n",
    "        \n",
    "        if l and u and d and s:\n",
    "            res.append(p)\n",
    "            break\n",
    "print(\",\".join(res))"
   ]
  },
  {
   "cell_type": "code",
   "execution_count": 20,
   "metadata": {},
   "outputs": [
    {
     "name": "stdout",
     "output_type": "stream",
     "text": [
      "Enter tuple::: Tom,19,80\n",
      "Enter tuple::: John,20,90\n",
      "Enter tuple::: Jony,17,91\n",
      "Enter tuple::: Jony,17,93\n",
      "Enter tuple::: Json,21,85\n",
      "Enter tuple::: \n"
     ]
    },
    {
     "data": {
      "text/plain": [
       "[['John', '20', '90'],\n",
       " ['Jony', '17', '91'],\n",
       " ['Jony', '17', '93'],\n",
       " ['Json', '21', '85'],\n",
       " ['Tom', '19', '80']]"
      ]
     },
     "execution_count": 20,
     "metadata": {},
     "output_type": "execute_result"
    }
   ],
   "source": [
    "#Q-19\n",
    "\n",
    "data=[]\n",
    "while True:\n",
    "    item = input(\"Enter tuple::: \")\n",
    "    tup = [word for word in item.split(\",\")]\n",
    "    if item:\n",
    "        data.append(tup)\n",
    "    else:\n",
    "        break;\n",
    "data = sorted(data, key = lambda x: (x[0], x[1], x[2]))\n",
    "data"
   ]
  },
  {
   "cell_type": "code",
   "execution_count": 27,
   "metadata": {},
   "outputs": [
    {
     "name": "stdout",
     "output_type": "stream",
     "text": [
      "0\n",
      "7\n",
      "14\n"
     ]
    }
   ],
   "source": [
    "#Q-20\n",
    "class divisible():\n",
    "    def gene7(self,n):\n",
    "        i=0\n",
    "        while i<n+1:\n",
    "            yield i\n",
    "            i+=7\n",
    "            \n",
    "obj=divisible()\n",
    "p=obj.gene7(45)\n",
    "print(next(p))\n",
    "print(next(p))\n",
    "print(next(p))"
   ]
  },
  {
   "cell_type": "code",
   "execution_count": null,
   "metadata": {},
   "outputs": [],
   "source": [
    "#Q-21\n",
    "\n",
    "moves=[]\n",
    "while True:\n",
    "    l = input()\n",
    "    if l:\n",
    "        moves.append(l)\n",
    "    else:\n",
    "        break;\n",
    "x=0\n",
    "y=0\n",
    "for move in moves:\n",
    "    if move[i]=='L':\n",
    "        a=move[i].split(' ')[1]\n",
    "        x-=int(a)\n",
    "    elif move[i]=='R':\n",
    "        a=move[i].split(' ')[1]\n",
    "        x+=int(a)\n",
    "    elif move[i]=='U':\n",
    "        a=move[i].split(' ')[1]\n",
    "        y+=int(a)\n",
    "    elif move[i]=='D':\n",
    "        a=move[i].split(' ')[1]\n",
    "        y-=int(a)\n",
    "        \n",
    "res=round((x*x + y*y)**0.5)\n",
    "res"
   ]
  },
  {
   "cell_type": "code",
   "execution_count": 18,
   "metadata": {},
   "outputs": [
    {
     "name": "stdout",
     "output_type": "stream",
     "text": [
      "Input comma separated sequence of wordsNew to Python or choosing between Python 2 and Python 3? Read Python 2 or Python 3\n"
     ]
    },
    {
     "data": {
      "text/plain": [
       "[('2', 2),\n",
       " ('3', 1),\n",
       " ('3?', 1),\n",
       " ('New', 1),\n",
       " ('Python', 5),\n",
       " ('Read', 1),\n",
       " ('and', 1),\n",
       " ('between', 1),\n",
       " ('choosing', 1),\n",
       " ('or', 2),\n",
       " ('to', 1)]"
      ]
     },
     "execution_count": 18,
     "metadata": {},
     "output_type": "execute_result"
    }
   ],
   "source": [
    "#Q-22\n",
    "from collections import Counter\n",
    "from itertools import chain\n",
    "import collections\n",
    "items = input(\"Input comma separated sequence of words\")\n",
    "test_list = [word for word in items.split(\" \")]\n",
    "res = collections.Counter(test_list)\n",
    "\n",
    "sorted(res.items(), key=lambda pair: pair[0], reverse=False)"
   ]
  },
  {
   "cell_type": "code",
   "execution_count": 20,
   "metadata": {},
   "outputs": [
    {
     "name": "stdout",
     "output_type": "stream",
     "text": [
      "3\n"
     ]
    },
    {
     "data": {
      "text/plain": [
       "9"
      ]
     },
     "execution_count": 20,
     "metadata": {},
     "output_type": "execute_result"
    }
   ],
   "source": [
    "#Q-23\n",
    "def getsquare(n):\n",
    "    return n**2\n",
    "n=int(input())\n",
    "getsquare(n)"
   ]
  },
  {
   "cell_type": "code",
   "execution_count": 23,
   "metadata": {},
   "outputs": [
    {
     "name": "stdout",
     "output_type": "stream",
     "text": [
      "Return the absolute value of the argument.\n",
      "max(iterable, *[, default=obj, key=func]) -> value\n",
      "max(arg1, arg2, *args, *[, key=func]) -> value\n",
      "\n",
      "With a single iterable argument, return its biggest item. The\n",
      "default keyword-only argument specifies an object to return if\n",
      "the provided iterable is empty.\n",
      "With two or more arguments, return the largest argument.\n"
     ]
    }
   ],
   "source": [
    "#Q-24\n",
    "\n",
    "print(abs.__doc__)\n",
    "print(max.__doc__)\n"
   ]
  },
  {
   "cell_type": "code",
   "execution_count": null,
   "metadata": {},
   "outputs": [],
   "source": [
    "#Q-25\n",
    "\n"
   ]
  },
  {
   "cell_type": "code",
   "execution_count": null,
   "metadata": {},
   "outputs": [],
   "source": [
    "#Q-26\n",
    "\n",
    "def add_num(a,b):\n",
    "    return a+b\n",
    "a=int(input())\n",
    "b=int(input())\n",
    "add_num(a,b)"
   ]
  },
  {
   "cell_type": "code",
   "execution_count": null,
   "metadata": {},
   "outputs": [],
   "source": [
    "#Q-27\n",
    "\n",
    "def convert(x):\n",
    "    return str(x)\n",
    "x=35\n",
    "convert(x)"
   ]
  },
  {
   "cell_type": "code",
   "execution_count": null,
   "metadata": {},
   "outputs": [],
   "source": [
    "#Q-28\n",
    "\n",
    "#Same as Q-27"
   ]
  },
  {
   "cell_type": "code",
   "execution_count": null,
   "metadata": {},
   "outputs": [],
   "source": [
    "#Q-29 \n",
    "\n",
    "def add_num(a,b):\n",
    "    return int(a)+int(b)\n",
    "a=input()\n",
    "b=input()\n",
    "add_num(a,b)"
   ]
  },
  {
   "cell_type": "code",
   "execution_count": null,
   "metadata": {},
   "outputs": [],
   "source": [
    "#Q-30\n",
    "\n",
    "def concat(a,b):\n",
    "    return a+b\n",
    "a=input()\n",
    "b=input()\n",
    "concat(a,b)"
   ]
  },
  {
   "cell_type": "code",
   "execution_count": 28,
   "metadata": {},
   "outputs": [
    {
     "name": "stdout",
     "output_type": "stream",
     "text": [
      "sda\n",
      "dsa\n",
      "sda\n",
      "dsa\n"
     ]
    }
   ],
   "source": [
    "#Q-31\n",
    "\n",
    "def print_longer(a,b):\n",
    "    if len(a)>len(b):\n",
    "        return a\n",
    "    elif len(a)<len(b):\n",
    "        return b\n",
    "    else:\n",
    "        print(a)\n",
    "        print(b)\n",
    "a=input()\n",
    "b=input()\n",
    "print_longer(a,b)"
   ]
  },
  {
   "cell_type": "code",
   "execution_count": null,
   "metadata": {},
   "outputs": [],
   "source": [
    "#Q-32\n",
    "\n",
    "def even_or_odd(num):\n",
    "    if num%2:\n",
    "        print(\"It is an odd number\")\n",
    "    else:\n",
    "        print(\"It is an even number\")\n",
    "num=int(input())\n",
    "even_or_odd(num)"
   ]
  },
  {
   "cell_type": "code",
   "execution_count": 29,
   "metadata": {},
   "outputs": [
    {
     "data": {
      "text/plain": [
       "{1: 1, 2: 4, 3: 9}"
      ]
     },
     "execution_count": 29,
     "metadata": {},
     "output_type": "execute_result"
    }
   ],
   "source": [
    "#Q-33\n",
    "def square(n):\n",
    "    dict={}\n",
    "    for i in range(1,n+1):\n",
    "        dict[i]=i**2\n",
    "    return dict\n",
    "square(3)"
   ]
  },
  {
   "cell_type": "code",
   "execution_count": 30,
   "metadata": {},
   "outputs": [
    {
     "data": {
      "text/plain": [
       "{1: 1,\n",
       " 2: 4,\n",
       " 3: 9,\n",
       " 4: 16,\n",
       " 5: 25,\n",
       " 6: 36,\n",
       " 7: 49,\n",
       " 8: 64,\n",
       " 9: 81,\n",
       " 10: 100,\n",
       " 11: 121,\n",
       " 12: 144,\n",
       " 13: 169,\n",
       " 14: 196,\n",
       " 15: 225,\n",
       " 16: 256,\n",
       " 17: 289,\n",
       " 18: 324,\n",
       " 19: 361,\n",
       " 20: 400}"
      ]
     },
     "execution_count": 30,
     "metadata": {},
     "output_type": "execute_result"
    }
   ],
   "source": [
    "#Q-34\n",
    "\n",
    "def square(n):\n",
    "    dict={}\n",
    "    for i in range(1,n+1):\n",
    "        dict[i]=i**2\n",
    "    return dict\n",
    "square(20)"
   ]
  },
  {
   "cell_type": "code",
   "execution_count": 31,
   "metadata": {},
   "outputs": [
    {
     "data": {
      "text/plain": [
       "dict_values([1, 4, 9, 16, 25, 36, 49, 64, 81, 100, 121, 144, 169, 196, 225, 256, 289, 324, 361, 400])"
      ]
     },
     "execution_count": 31,
     "metadata": {},
     "output_type": "execute_result"
    }
   ],
   "source": [
    "#Q-35\n",
    "\n",
    "def square(n):\n",
    "    dict={}\n",
    "    for i in range(1,n+1):\n",
    "        dict[i]=i**2\n",
    "    return dict.values()\n",
    "square(20)"
   ]
  },
  {
   "cell_type": "code",
   "execution_count": null,
   "metadata": {},
   "outputs": [],
   "source": [
    "#Q-36\n",
    "\n",
    "def square(n):\n",
    "    dict={}\n",
    "    for i in range(1,n+1):\n",
    "        dict[i]=i**2\n",
    "    return dict.keys()\n",
    "square(20)"
   ]
  },
  {
   "cell_type": "code",
   "execution_count": null,
   "metadata": {},
   "outputs": [],
   "source": [
    "def square(n):\n",
    "    list=[]\n",
    "    for i in range(1,n+1):\n",
    "        list.append(i**2)\n",
    "    return list\n",
    "square(20)\n",
    "print(list)   #37 \n",
    "print(list[:5])    #38\n",
    "print(list[15:])   #39\n",
    "print(list[6:])    #40\n",
    "print(tuple(list)) #41"
   ]
  },
  {
   "cell_type": "code",
   "execution_count": 35,
   "metadata": {},
   "outputs": [
    {
     "name": "stdout",
     "output_type": "stream",
     "text": [
      "(1, 2, 3, 4, 5)\n",
      "(6, 7, 8, 9, 10)\n"
     ]
    }
   ],
   "source": [
    "#Q-42\n",
    "\n",
    "tup=tuple(x+1 for x in range(10))\n",
    "print(tup[:5])\n",
    "print(tup[5:])"
   ]
  },
  {
   "cell_type": "code",
   "execution_count": 43,
   "metadata": {},
   "outputs": [
    {
     "data": {
      "text/plain": [
       "(2, 4, 6, 8, 10)"
      ]
     },
     "execution_count": 43,
     "metadata": {},
     "output_type": "execute_result"
    }
   ],
   "source": [
    "#Q-43\n",
    "\n",
    "res=tuple()\n",
    "tup=tuple(x+1 for x in range(10))\n",
    "for t in tup:\n",
    "    if t%2==0:\n",
    "        res+=(t,)\n",
    "        \n",
    "res"
   ]
  },
  {
   "cell_type": "code",
   "execution_count": null,
   "metadata": {},
   "outputs": [],
   "source": [
    "#Q-44\n",
    "\n",
    "string=input()\n",
    "if string=='yes' or string=='Yes' or string=='YES':\n",
    "    print('Yes')\n",
    "else:\n",
    "    print('No')"
   ]
  },
  {
   "cell_type": "code",
   "execution_count": 51,
   "metadata": {},
   "outputs": [
    {
     "data": {
      "text/plain": [
       "[2, 4, 6, 8, 10]"
      ]
     },
     "execution_count": 51,
     "metadata": {},
     "output_type": "execute_result"
    }
   ],
   "source": [
    "#Q-45\n",
    "seq=[i+1 for i in range(10)]\n",
    "result = list(filter(lambda x: x % 2 == 0, seq))\n",
    "result"
   ]
  },
  {
   "cell_type": "code",
   "execution_count": 53,
   "metadata": {},
   "outputs": [
    {
     "name": "stdout",
     "output_type": "stream",
     "text": [
      "[1, 4, 9, 16, 25, 36, 49, 64, 81, 100]\n"
     ]
    }
   ],
   "source": [
    "#Q-46\n",
    "\n",
    "nums=[i+1 for i in range(10)]\n",
    "result = list(map(lambda x:x**2, nums))\n",
    "\n",
    "print(result)"
   ]
  },
  {
   "cell_type": "code",
   "execution_count": 50,
   "metadata": {},
   "outputs": [
    {
     "data": {
      "text/plain": [
       "[4, 16, 36, 64, 100]"
      ]
     },
     "execution_count": 50,
     "metadata": {},
     "output_type": "execute_result"
    }
   ],
   "source": [
    "#Q-47\n",
    "\n",
    "seq=[i+1 for i in range(10)]\n",
    "result=list(map(lambda x: x**2, filter(lambda   x: x%2==0, seq)))\n",
    "result"
   ]
  },
  {
   "cell_type": "code",
   "execution_count": 52,
   "metadata": {},
   "outputs": [
    {
     "data": {
      "text/plain": [
       "[2, 4, 6, 8, 10, 12, 14, 16, 18, 20]"
      ]
     },
     "execution_count": 52,
     "metadata": {},
     "output_type": "execute_result"
    }
   ],
   "source": [
    "#Q-48\n",
    "\n",
    "seq=[i+1 for i in range(20)]\n",
    "result = list(filter(lambda x: x % 2 == 0, seq))\n",
    "result"
   ]
  },
  {
   "cell_type": "code",
   "execution_count": 54,
   "metadata": {},
   "outputs": [
    {
     "name": "stdout",
     "output_type": "stream",
     "text": [
      "[1, 4, 9, 16, 25, 36, 49, 64, 81, 100, 121, 144, 169, 196, 225, 256, 289, 324, 361, 400]\n"
     ]
    }
   ],
   "source": [
    "#Q-49\n",
    "\n",
    "nums=[i+1 for i in range(20)]\n",
    "result = list(map(lambda x:x**2, nums))\n",
    "\n",
    "print(result)\n"
   ]
  },
  {
   "cell_type": "code",
   "execution_count": 65,
   "metadata": {},
   "outputs": [
    {
     "name": "stdout",
     "output_type": "stream",
     "text": [
      "American\n",
      "American\n"
     ]
    }
   ],
   "source": [
    "#Q-50,51\n",
    "\n",
    "class American():\n",
    "    pass\n",
    "    \n",
    "    @staticmethod\n",
    "    def printNationality():\n",
    "        print('American')\n",
    "        \n",
    "        \n",
    "class NewYorker(American):\n",
    "    pass\n",
    "\n",
    "obj=American()\n",
    "obj.printNationality()\n",
    "obj=NewYorker()\n",
    "obj.printNationality()"
   ]
  },
  {
   "cell_type": "code",
   "execution_count": 89,
   "metadata": {},
   "outputs": [
    {
     "data": {
      "text/plain": [
       "3.1415"
      ]
     },
     "execution_count": 89,
     "metadata": {},
     "output_type": "execute_result"
    }
   ],
   "source": [
    "#Q-52\n",
    "\n",
    "class circle():\n",
    "    def __init__(self, r):\n",
    "        self.radius=r\n",
    "    def area(self):\n",
    "        return 3.1415*self.radius*self.radius\n",
    "c=circle(1)\n",
    "c.area()"
   ]
  },
  {
   "cell_type": "code",
   "execution_count": 83,
   "metadata": {},
   "outputs": [
    {
     "data": {
      "text/plain": [
       "10"
      ]
     },
     "execution_count": 83,
     "metadata": {},
     "output_type": "execute_result"
    }
   ],
   "source": [
    "#Q-53\n",
    "\n",
    "class Rectangle():\n",
    "    def __init__(self, l, w):\n",
    "        self.length = l\n",
    "        self.width  = w\n",
    "\n",
    "    def area(self):\n",
    "        return self.length*self.width\n",
    "    \n",
    "r=Rectangle(2,5)\n",
    "r.area()"
   ]
  },
  {
   "cell_type": "code",
   "execution_count": 97,
   "metadata": {},
   "outputs": [
    {
     "name": "stdout",
     "output_type": "stream",
     "text": [
      "0\n",
      "4\n"
     ]
    }
   ],
   "source": [
    "#Q-54\n",
    "\n",
    "class shape():\n",
    "    \n",
    "    def area(self, side=0):\n",
    "        return side**2\n",
    "    \n",
    "class square(shape):\n",
    "    def __init__(self,l=0):\n",
    "        self.side=l\n",
    "    def area(self):\n",
    "        return self.side**2\n",
    "    \n",
    "s=shape()\n",
    "print(s.area())\n",
    "q=square(2)\n",
    "print(q.area())"
   ]
  },
  {
   "cell_type": "code",
   "execution_count": 101,
   "metadata": {},
   "outputs": [
    {
     "name": "stdout",
     "output_type": "stream",
     "text": [
      "Divisiblity error\n"
     ]
    }
   ],
   "source": [
    "#Q-55\n",
    "\n",
    "a=5\n",
    "b=0\n",
    "try:\n",
    "    x=a/b\n",
    "    print(x)\n",
    "except:\n",
    "    print(\"Divisiblity error\")"
   ]
  },
  {
   "cell_type": "code",
   "execution_count": null,
   "metadata": {},
   "outputs": [],
   "source": [
    "#Q-56"
   ]
  },
  {
   "cell_type": "code",
   "execution_count": 104,
   "metadata": {},
   "outputs": [
    {
     "data": {
      "text/plain": [
       "'Chandra'"
      ]
     },
     "execution_count": 104,
     "metadata": {},
     "output_type": "execute_result"
    }
   ],
   "source": [
    "#Q-57\n",
    "\n",
    "st=\"Chandra@analytixlabs.com\"\n",
    "name=st.split('@')[0]\n",
    "name"
   ]
  },
  {
   "cell_type": "code",
   "execution_count": 107,
   "metadata": {},
   "outputs": [
    {
     "data": {
      "text/plain": [
       "'analytixlabs'"
      ]
     },
     "execution_count": 107,
     "metadata": {},
     "output_type": "execute_result"
    }
   ],
   "source": [
    "#Q-58\n",
    "\n",
    "st=\"Chandra@analytixlabs.com\"\n",
    "name=st.split('@')[1]\n",
    "name=name.split('.')[0]\n",
    "name"
   ]
  },
  {
   "cell_type": "code",
   "execution_count": 108,
   "metadata": {},
   "outputs": [
    {
     "name": "stdout",
     "output_type": "stream",
     "text": [
      "iuh8 ji 89 8s 8\n"
     ]
    },
    {
     "data": {
      "text/plain": [
       "['89', '8']"
      ]
     },
     "execution_count": 108,
     "metadata": {},
     "output_type": "execute_result"
    }
   ],
   "source": [
    "#Q-59\n",
    "\n",
    "s=input()\n",
    "res=[]\n",
    "sen=s.split(' ')\n",
    "for word in sen:\n",
    "    if word.isdigit():\n",
    "        res.append(word)\n",
    "        \n",
    "res"
   ]
  },
  {
   "cell_type": "code",
   "execution_count": 110,
   "metadata": {},
   "outputs": [
    {
     "name": "stdout",
     "output_type": "stream",
     "text": [
      "Hello, world!\n"
     ]
    }
   ],
   "source": [
    "#Q-60\n",
    "\n",
    "print(u'Hello, world!')"
   ]
  },
  {
   "cell_type": "code",
   "execution_count": 2,
   "metadata": {},
   "outputs": [
    {
     "data": {
      "text/plain": [
       "b'String'"
      ]
     },
     "execution_count": 2,
     "metadata": {},
     "output_type": "execute_result"
    }
   ],
   "source": [
    "#Q-61\n",
    "\n",
    "x='String'\n",
    "x=x.encode('utf-8')\n",
    "x"
   ]
  },
  {
   "cell_type": "code",
   "execution_count": null,
   "metadata": {},
   "outputs": [],
   "source": [
    "#Q-62"
   ]
  },
  {
   "cell_type": "code",
   "execution_count": 2,
   "metadata": {},
   "outputs": [
    {
     "name": "stdout",
     "output_type": "stream",
     "text": [
      "5\n"
     ]
    },
    {
     "data": {
      "text/plain": [
       "3.5500000000000003"
      ]
     },
     "execution_count": 2,
     "metadata": {},
     "output_type": "execute_result"
    }
   ],
   "source": [
    "#Q-63\n",
    "\n",
    "res=0\n",
    "n=int(input())\n",
    "if n==0:\n",
    "    print(\"Invalid\")\n",
    "    exit()\n",
    "for i in range(1,n+1):\n",
    "    t=i/(i+1)\n",
    "    res+=t\n",
    "res"
   ]
  },
  {
   "cell_type": "code",
   "execution_count": 3,
   "metadata": {},
   "outputs": [
    {
     "name": "stdout",
     "output_type": "stream",
     "text": [
      "5\n"
     ]
    },
    {
     "data": {
      "text/plain": [
       "501"
      ]
     },
     "execution_count": 3,
     "metadata": {},
     "output_type": "execute_result"
    }
   ],
   "source": [
    "#Q-64\n",
    "\n",
    "def func(n):\n",
    "    if n==0:\n",
    "        return 1\n",
    "    return func(n-1)+100\n",
    "\n",
    "n=int(input())\n",
    "if n==0:\n",
    "    print(\"Invalid\")\n",
    "    exit()\n",
    "func(n)"
   ]
  },
  {
   "cell_type": "code",
   "execution_count": 4,
   "metadata": {},
   "outputs": [
    {
     "data": {
      "text/plain": [
       "13"
      ]
     },
     "execution_count": 4,
     "metadata": {},
     "output_type": "execute_result"
    }
   ],
   "source": [
    "#Q-65\n",
    "\n",
    "def Fibonacci(n):\n",
    "    if n == 0:\n",
    "        return 0\n",
    "    \n",
    "    elif n == 1:\n",
    "        return 1\n",
    "    \n",
    "    else:\n",
    "        return Fibonacci(n-1) + Fibonacci(n-2)\n",
    "\n",
    "Fibonacci(7)"
   ]
  },
  {
   "cell_type": "code",
   "execution_count": 11,
   "metadata": {},
   "outputs": [
    {
     "data": {
      "text/plain": [
       "[0, 1, 1, 2, 3, 5, 8, 13]"
      ]
     },
     "execution_count": 11,
     "metadata": {},
     "output_type": "execute_result"
    }
   ],
   "source": [
    "#Q-66\n",
    "\n",
    "n=7\n",
    "mylist=[0,1]\n",
    "[mylist.append(mylist[-2]+mylist[-1]) for _ in range(n-1)]\n",
    "mylist"
   ]
  },
  {
   "cell_type": "code",
   "execution_count": 14,
   "metadata": {},
   "outputs": [
    {
     "name": "stdout",
     "output_type": "stream",
     "text": [
      "8\n",
      "0\n",
      "2\n",
      "4\n",
      "6\n",
      "8\n"
     ]
    }
   ],
   "source": [
    "#Q-67\n",
    "\n",
    "def func(i):\n",
    "    yield i\n",
    "n=int(input())\n",
    "for i in range(0,n+1,2):\n",
    "    print(next(func(i)))"
   ]
  },
  {
   "cell_type": "code",
   "execution_count": 16,
   "metadata": {},
   "outputs": [
    {
     "name": "stdout",
     "output_type": "stream",
     "text": [
      "110\n",
      "0\n",
      "35\n",
      "70\n",
      "105\n"
     ]
    }
   ],
   "source": [
    "#Q-68\n",
    "\n",
    "def func(i):\n",
    "    yield i\n",
    "n=int(input())\n",
    "for i in range(0,n+1):\n",
    "    if i%7==0 and i%5==0:\n",
    "        print(next(func(i)))"
   ]
  },
  {
   "cell_type": "code",
   "execution_count": 20,
   "metadata": {},
   "outputs": [],
   "source": [
    "#Q-69\n",
    "\n",
    "l=[2,4,6,8]\n",
    "for i in l:\n",
    "    assert i%2==0"
   ]
  },
  {
   "cell_type": "code",
   "execution_count": 23,
   "metadata": {},
   "outputs": [
    {
     "data": {
      "text/plain": [
       "46"
      ]
     },
     "execution_count": 23,
     "metadata": {},
     "output_type": "execute_result"
    }
   ],
   "source": [
    "#Q-70\n",
    "\n",
    "evaluate = '35+8'\n",
    "x = 3\n",
    "expression = eval(evaluate)\n",
    "expression"
   ]
  },
  {
   "cell_type": "code",
   "execution_count": 2,
   "metadata": {},
   "outputs": [
    {
     "name": "stdout",
     "output_type": "stream",
     "text": [
      "0\n"
     ]
    }
   ],
   "source": [
    "#Q-71,72\n",
    "\n",
    "arr = [ 2, 3, 4, 10, 40 ]\n",
    "x = 2\n",
    "\n",
    "low = 0\n",
    "high = len(arr) - 1\n",
    "mid = 0\n",
    "\n",
    "while low <= high:\n",
    "\n",
    "    mid = (high + low) // 2\n",
    "\n",
    "    # If x is greater, ignore left half\n",
    "    if arr[mid] < x:\n",
    "        low = mid + 1\n",
    "\n",
    "    # If x is smaller, ignore right half\n",
    "    elif arr[mid] > x:\n",
    "        high = mid - 1\n",
    "\n",
    "    # means x is present at mid\n",
    "    else:\n",
    "        print(mid)\n",
    "        break\n",
    "\n"
   ]
  },
  {
   "cell_type": "code",
   "execution_count": 5,
   "metadata": {},
   "outputs": [
    {
     "name": "stdout",
     "output_type": "stream",
     "text": [
      "56.745207589829974\n",
      "24.813846811675216\n"
     ]
    }
   ],
   "source": [
    "#Q-73,74\n",
    "import random\n",
    "\n",
    "print(random.uniform(10,100))\n",
    "print(random.uniform(5,95))"
   ]
  },
  {
   "cell_type": "code",
   "execution_count": 12,
   "metadata": {},
   "outputs": [
    {
     "name": "stdout",
     "output_type": "stream",
     "text": [
      "6\n"
     ]
    }
   ],
   "source": [
    "#Q-75\n",
    "\n",
    "def my_generator():\n",
    "    while True:\n",
    "        yield random.randrange(0,10,2)\n",
    "a=my_generator()\n",
    "print(next(a))"
   ]
  },
  {
   "cell_type": "code",
   "execution_count": 15,
   "metadata": {},
   "outputs": [
    {
     "name": "stdout",
     "output_type": "stream",
     "text": [
      "105\n"
     ]
    }
   ],
   "source": [
    "#Q-76\n",
    "\n",
    "def my_generator():\n",
    "    while True:\n",
    "        yield random.randrange(0,1000,35)\n",
    "a=my_generator()\n",
    "print(next(a))"
   ]
  },
  {
   "cell_type": "code",
   "execution_count": null,
   "metadata": {},
   "outputs": [],
   "source": [
    "#Q-77\n",
    "\n",
    "x=random.sample([x for x in range(100,201)],5)\n",
    "x"
   ]
  },
  {
   "cell_type": "code",
   "execution_count": 17,
   "metadata": {},
   "outputs": [
    {
     "name": "stdout",
     "output_type": "stream",
     "text": [
      "[122, 138, 106, 200, 178]\n"
     ]
    }
   ],
   "source": [
    "#Q-78\n",
    "\n",
    "x=random.sample([x for x in range(100,201,)],5)\n",
    "x"
   ]
  },
  {
   "cell_type": "code",
   "execution_count": 21,
   "metadata": {},
   "outputs": [
    {
     "data": {
      "text/plain": [
       "[386, 946, 911, 281, 456]"
      ]
     },
     "execution_count": 21,
     "metadata": {},
     "output_type": "execute_result"
    }
   ],
   "source": [
    "#Q-79\n",
    "\n",
    "x=random.sample([x for x in range(1,1001,35)],5)\n",
    "x"
   ]
  },
  {
   "cell_type": "code",
   "execution_count": 23,
   "metadata": {},
   "outputs": [
    {
     "data": {
      "text/plain": [
       "11"
      ]
     },
     "execution_count": 23,
     "metadata": {},
     "output_type": "execute_result"
    }
   ],
   "source": [
    "#Q-80\n",
    "\n",
    "random.randrange(7,16)"
   ]
  },
  {
   "cell_type": "code",
   "execution_count": 36,
   "metadata": {},
   "outputs": [
    {
     "name": "stdout",
     "output_type": "stream",
     "text": [
      "Compressed:  b'x\\x9c\\xcbH\\xcd\\xc9\\xc9W(\\xcf/\\xcaIQ\\xcc \\x82\\r\\x00\\xbd[\\x11\\xf5'\n",
      "Decompressed:  b'hello world!hello world!hello world!hello world!'\n"
     ]
    }
   ],
   "source": [
    "#Q-81\n",
    "\n",
    "import zlib\n",
    "text=\"hello world!hello world!hello world!hello world!\"\n",
    "text=text.encode('utf-8')\n",
    "comp=zlib.compress(text)\n",
    "print(\"Compressed: \", comp)\n",
    "decomp=zlib.decompress(comp)\n",
    "print(\"Decompressed: \", decomp)"
   ]
  },
  {
   "cell_type": "code",
   "execution_count": 39,
   "metadata": {},
   "outputs": [
    {
     "name": "stdout",
     "output_type": "stream",
     "text": [
      "2.599999788799323e-06\n"
     ]
    }
   ],
   "source": [
    "#Q-82\n",
    "import timeit\n",
    "\n",
    "mycode=\"1+1\"\n",
    "print(timeit.timeit(stmt = mycode,number = 100))"
   ]
  },
  {
   "cell_type": "code",
   "execution_count": 42,
   "metadata": {},
   "outputs": [
    {
     "data": {
      "text/plain": [
       "[7, 6, 3, 8]"
      ]
     },
     "execution_count": 42,
     "metadata": {},
     "output_type": "execute_result"
    }
   ],
   "source": [
    "#Q-83,84\n",
    "\n",
    "lis=[3,6,7,8]\n",
    "random.shuffle(lis)\n",
    "lis"
   ]
  },
  {
   "cell_type": "code",
   "execution_count": 45,
   "metadata": {},
   "outputs": [
    {
     "data": {
      "text/plain": [
       "[('I', 'Play', 'Hockey'),\n",
       " ('I', 'Play', 'Football'),\n",
       " ('I', 'Love', 'Hockey'),\n",
       " ('I', 'Love', 'Football'),\n",
       " ('You', 'Play', 'Hockey'),\n",
       " ('You', 'Play', 'Football'),\n",
       " ('You', 'Love', 'Hockey'),\n",
       " ('You', 'Love', 'Football')]"
      ]
     },
     "execution_count": 45,
     "metadata": {},
     "output_type": "execute_result"
    }
   ],
   "source": [
    "#Q-85\n",
    "\n",
    "import itertools\n",
    "sen=[['I','You'],['Play','Love'],['Hockey','Football']]\n",
    "list(itertools.product(*sen))\n"
   ]
  },
  {
   "cell_type": "code",
   "execution_count": 46,
   "metadata": {},
   "outputs": [
    {
     "data": {
      "text/plain": [
       "[5, 77, 45]"
      ]
     },
     "execution_count": 46,
     "metadata": {},
     "output_type": "execute_result"
    }
   ],
   "source": [
    "#Q-86\n",
    "\n",
    "lis=[5,6,77,45,22,12,24]\n",
    "lis=[i for i in lis if i%2]\n",
    "lis"
   ]
  },
  {
   "cell_type": "code",
   "execution_count": null,
   "metadata": {},
   "outputs": [],
   "source": [
    "#Q-87\n",
    "\n",
    "lis= [12,24,35,70,88,120,155]\n",
    "lis=[i for i in lis if (i%5==0 and i%7==0)]"
   ]
  },
  {
   "cell_type": "code",
   "execution_count": 47,
   "metadata": {},
   "outputs": [
    {
     "data": {
      "text/plain": [
       "[24, 70, 120]"
      ]
     },
     "execution_count": 47,
     "metadata": {},
     "output_type": "execute_result"
    }
   ],
   "source": [
    "#Q-88\n",
    "\n",
    "lis=[12,24,35,70,88,120,155]\n",
    "lis=[lis[i] for i in range(1,len(lis),2)]\n",
    "lis"
   ]
  },
  {
   "cell_type": "code",
   "execution_count": 48,
   "metadata": {},
   "outputs": [
    {
     "data": {
      "text/plain": [
       "[[[0, 0, 0], [0, 0, 0], [0, 0, 0], [0, 0, 0], [0, 0, 0]],\n",
       " [[0, 0, 0], [0, 0, 0], [0, 0, 0], [0, 0, 0], [0, 0, 0]],\n",
       " [[0, 0, 0], [0, 0, 0], [0, 0, 0], [0, 0, 0], [0, 0, 0]],\n",
       " [[0, 0, 0], [0, 0, 0], [0, 0, 0], [0, 0, 0], [0, 0, 0]],\n",
       " [[0, 0, 0], [0, 0, 0], [0, 0, 0], [0, 0, 0], [0, 0, 0]],\n",
       " [[0, 0, 0], [0, 0, 0], [0, 0, 0], [0, 0, 0], [0, 0, 0]],\n",
       " [[0, 0, 0], [0, 0, 0], [0, 0, 0], [0, 0, 0], [0, 0, 0]],\n",
       " [[0, 0, 0], [0, 0, 0], [0, 0, 0], [0, 0, 0], [0, 0, 0]]]"
      ]
     },
     "execution_count": 48,
     "metadata": {},
     "output_type": "execute_result"
    }
   ],
   "source": [
    "#Q-89\n",
    "\n",
    "a=3\n",
    "b=5\n",
    "c=8\n",
    "mat=[[[0 for _ in range(a)] for _ in range(b)] for _ in range(c)]\n",
    "mat"
   ]
  },
  {
   "cell_type": "code",
   "execution_count": 49,
   "metadata": {},
   "outputs": [
    {
     "data": {
      "text/plain": [
       "[24, 35, 70, 155]"
      ]
     },
     "execution_count": 49,
     "metadata": {},
     "output_type": "execute_result"
    }
   ],
   "source": [
    "#Q-90\n",
    "\n",
    "lis=[12,24,35,70,88,120,155]\n",
    "lis.pop(0)  #0th element\n",
    "lis.pop(3)  # since one element(left of 4th) is removed, 4th index is now 3rd\n",
    "lis.pop(3)  # since two elements(left of 5th) are removed, 5th index is now 3rd\n",
    "lis"
   ]
  },
  {
   "cell_type": "code",
   "execution_count": 8,
   "metadata": {},
   "outputs": [
    {
     "data": {
      "text/plain": [
       "[12, 35, 88, 120, 155]"
      ]
     },
     "execution_count": 8,
     "metadata": {},
     "output_type": "execute_result"
    }
   ],
   "source": [
    "#Q-91\n",
    "\n",
    "lis= [12,24,35,24,88,120,155]\n",
    "lis=[i for i in lis if i != 24]\n",
    "lis"
   ]
  },
  {
   "cell_type": "code",
   "execution_count": 10,
   "metadata": {},
   "outputs": [
    {
     "data": {
      "text/plain": [
       "[35, 155]"
      ]
     },
     "execution_count": 10,
     "metadata": {},
     "output_type": "execute_result"
    }
   ],
   "source": [
    "#Q-92\n",
    "\n",
    "lst1=[1,3,6,78,35,155]\n",
    "lst2=[12,24,35,24,88,120,155]\n",
    "res=[value for value in lst1 if value in set(lst2)]\n",
    "res"
   ]
  },
  {
   "cell_type": "code",
   "execution_count": 30,
   "metadata": {},
   "outputs": [
    {
     "data": {
      "text/plain": [
       "[12, 24, 35, 88, 120, 155]"
      ]
     },
     "execution_count": 30,
     "metadata": {},
     "output_type": "execute_result"
    }
   ],
   "source": [
    "#Q-93\n",
    "\n",
    "lis=[12, 24, 35, 24, 88, 120, 155, 88, 120, 155]\n",
    "lis=[i for n, i in enumerate(lis) if i not in lis[:n]]\n",
    "lis"
   ]
  },
  {
   "cell_type": "code",
   "execution_count": 34,
   "metadata": {},
   "outputs": [
    {
     "name": "stdout",
     "output_type": "stream",
     "text": [
      "Male\n",
      "Female\n"
     ]
    }
   ],
   "source": [
    "#Q-94\n",
    "\n",
    "class Person():\n",
    "    def getGender():\n",
    "        pass\n",
    "class Male(Person):\n",
    "    def getGender(self):\n",
    "        print(\"Male\")\n",
    "class Female(Person):\n",
    "    def getGender(self):\n",
    "        print(\"Female\")\n",
    "    \n",
    "per=Person()\n",
    "male=Male()\n",
    "male.getGender()\n",
    "fem=Female()\n",
    "fem.getGender()"
   ]
  },
  {
   "cell_type": "code",
   "execution_count": 35,
   "metadata": {},
   "outputs": [
    {
     "name": "stdout",
     "output_type": "stream",
     "text": [
      "abcdefgabc\n"
     ]
    },
    {
     "data": {
      "text/plain": [
       "{'a': 2, 'b': 2, 'c': 2, 'd': 1, 'e': 1, 'f': 1, 'g': 1}"
      ]
     },
     "execution_count": 35,
     "metadata": {},
     "output_type": "execute_result"
    }
   ],
   "source": [
    "#Q-95\n",
    "\n",
    "test=input()\n",
    "res = {}\n",
    "for keys in test:\n",
    "    res[keys] = res.get(keys, 0) + 1\n",
    "res"
   ]
  },
  {
   "cell_type": "code",
   "execution_count": 37,
   "metadata": {},
   "outputs": [
    {
     "name": "stdout",
     "output_type": "stream",
     "text": [
      "rise to vote sir\n"
     ]
    },
    {
     "data": {
      "text/plain": [
       "'ris etov ot esir'"
      ]
     },
     "execution_count": 37,
     "metadata": {},
     "output_type": "execute_result"
    }
   ],
   "source": [
    "#Q-96\n",
    "\n",
    "lis=input()\n",
    "lis[::-1]"
   ]
  },
  {
   "cell_type": "code",
   "execution_count": 38,
   "metadata": {},
   "outputs": [
    {
     "name": "stdout",
     "output_type": "stream",
     "text": [
      "H1e2l3l4o5w6o7r8l9d\n"
     ]
    },
    {
     "data": {
      "text/plain": [
       "'Helloworld'"
      ]
     },
     "execution_count": 38,
     "metadata": {},
     "output_type": "execute_result"
    }
   ],
   "source": [
    "#Q-97\n",
    "\n",
    "lis=input()\n",
    "lis[::2]"
   ]
  },
  {
   "cell_type": "code",
   "execution_count": 40,
   "metadata": {},
   "outputs": [
    {
     "name": "stdout",
     "output_type": "stream",
     "text": [
      "[(1, 2, 3), (1, 3, 2), (2, 1, 3), (2, 3, 1), (3, 1, 2), (3, 2, 1)]\n"
     ]
    }
   ],
   "source": [
    "#Q-98\n",
    "\n",
    "from itertools import permutations\n",
    "lis=[1,2,3]\n",
    "print(list(permutations(lis)))"
   ]
  },
  {
   "cell_type": "code",
   "execution_count": 42,
   "metadata": {},
   "outputs": [
    {
     "name": "stdout",
     "output_type": "stream",
     "text": [
      "Rabbit\t 12\n",
      "Chicken\t 23\n"
     ]
    }
   ],
   "source": [
    "#Q-99\n",
    "\n",
    "legs=94\n",
    "heads=35\n",
    "if legs % 2 !=0 or heads ==0 or heads > legs:\n",
    "    print('No solution')\n",
    "else:\n",
    "    r = int((legs + (-2*heads))/2)\n",
    "    c = int(heads - r)\n",
    "    \n",
    "print(\"Rabbit\\t\", r)\n",
    "print(\"Chicken\\t\", c)"
   ]
  },
  {
   "cell_type": "code",
   "execution_count": 43,
   "metadata": {},
   "outputs": [
    {
     "data": {
      "text/plain": [
       "{'John': 938477566, 'Jack': 938377264, 'Jake': 9462964042}"
      ]
     },
     "execution_count": 43,
     "metadata": {},
     "output_type": "execute_result"
    }
   ],
   "source": [
    "#Q-100\n",
    "\n",
    "phonebook = {\"John\": 938477566,\"Jack\" :938377264, \"Jill\": 947662781}\n",
    "phonebook[\"Jake\"]=9462964042\n",
    "phonebook.pop(\"Jill\")\n",
    "phonebook"
   ]
  }
 ],
 "metadata": {
  "kernelspec": {
   "display_name": "Python 3",
   "language": "python",
   "name": "python3"
  },
  "language_info": {
   "codemirror_mode": {
    "name": "ipython",
    "version": 3
   },
   "file_extension": ".py",
   "mimetype": "text/x-python",
   "name": "python",
   "nbconvert_exporter": "python",
   "pygments_lexer": "ipython3",
   "version": "3.7.3"
  }
 },
 "nbformat": 4,
 "nbformat_minor": 2
}
